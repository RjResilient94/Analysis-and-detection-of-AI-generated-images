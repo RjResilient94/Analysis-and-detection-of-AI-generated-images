{
  "cells": [
    {
      "cell_type": "code",
      "metadata": {
        "colab": {
          "base_uri": "https://localhost:8080/",
          "height": 90
        },
        "id": "2qjQeg1Q7JES",
        "outputId": "6ba10c1f-e31a-4c35-d430-94c59e9f0422"
      },
      "source": [
        "from google.colab import files\n",
        "files.upload()  # Upload kaggle.json\n"
      ],
      "execution_count": 1,
      "outputs": [
        {
          "output_type": "display_data",
          "data": {
            "text/plain": [
              "<IPython.core.display.HTML object>"
            ],
            "text/html": [
              "\n",
              "     <input type=\"file\" id=\"files-9458c9b6-bd1c-416c-94b5-398bc2f45303\" name=\"files[]\" multiple disabled\n",
              "        style=\"border:none\" />\n",
              "     <output id=\"result-9458c9b6-bd1c-416c-94b5-398bc2f45303\">\n",
              "      Upload widget is only available when the cell has been executed in the\n",
              "      current browser session. Please rerun this cell to enable.\n",
              "      </output>\n",
              "      <script>// Copyright 2017 Google LLC\n",
              "//\n",
              "// Licensed under the Apache License, Version 2.0 (the \"License\");\n",
              "// you may not use this file except in compliance with the License.\n",
              "// You may obtain a copy of the License at\n",
              "//\n",
              "//      http://www.apache.org/licenses/LICENSE-2.0\n",
              "//\n",
              "// Unless required by applicable law or agreed to in writing, software\n",
              "// distributed under the License is distributed on an \"AS IS\" BASIS,\n",
              "// WITHOUT WARRANTIES OR CONDITIONS OF ANY KIND, either express or implied.\n",
              "// See the License for the specific language governing permissions and\n",
              "// limitations under the License.\n",
              "\n",
              "/**\n",
              " * @fileoverview Helpers for google.colab Python module.\n",
              " */\n",
              "(function(scope) {\n",
              "function span(text, styleAttributes = {}) {\n",
              "  const element = document.createElement('span');\n",
              "  element.textContent = text;\n",
              "  for (const key of Object.keys(styleAttributes)) {\n",
              "    element.style[key] = styleAttributes[key];\n",
              "  }\n",
              "  return element;\n",
              "}\n",
              "\n",
              "// Max number of bytes which will be uploaded at a time.\n",
              "const MAX_PAYLOAD_SIZE = 100 * 1024;\n",
              "\n",
              "function _uploadFiles(inputId, outputId) {\n",
              "  const steps = uploadFilesStep(inputId, outputId);\n",
              "  const outputElement = document.getElementById(outputId);\n",
              "  // Cache steps on the outputElement to make it available for the next call\n",
              "  // to uploadFilesContinue from Python.\n",
              "  outputElement.steps = steps;\n",
              "\n",
              "  return _uploadFilesContinue(outputId);\n",
              "}\n",
              "\n",
              "// This is roughly an async generator (not supported in the browser yet),\n",
              "// where there are multiple asynchronous steps and the Python side is going\n",
              "// to poll for completion of each step.\n",
              "// This uses a Promise to block the python side on completion of each step,\n",
              "// then passes the result of the previous step as the input to the next step.\n",
              "function _uploadFilesContinue(outputId) {\n",
              "  const outputElement = document.getElementById(outputId);\n",
              "  const steps = outputElement.steps;\n",
              "\n",
              "  const next = steps.next(outputElement.lastPromiseValue);\n",
              "  return Promise.resolve(next.value.promise).then((value) => {\n",
              "    // Cache the last promise value to make it available to the next\n",
              "    // step of the generator.\n",
              "    outputElement.lastPromiseValue = value;\n",
              "    return next.value.response;\n",
              "  });\n",
              "}\n",
              "\n",
              "/**\n",
              " * Generator function which is called between each async step of the upload\n",
              " * process.\n",
              " * @param {string} inputId Element ID of the input file picker element.\n",
              " * @param {string} outputId Element ID of the output display.\n",
              " * @return {!Iterable<!Object>} Iterable of next steps.\n",
              " */\n",
              "function* uploadFilesStep(inputId, outputId) {\n",
              "  const inputElement = document.getElementById(inputId);\n",
              "  inputElement.disabled = false;\n",
              "\n",
              "  const outputElement = document.getElementById(outputId);\n",
              "  outputElement.innerHTML = '';\n",
              "\n",
              "  const pickedPromise = new Promise((resolve) => {\n",
              "    inputElement.addEventListener('change', (e) => {\n",
              "      resolve(e.target.files);\n",
              "    });\n",
              "  });\n",
              "\n",
              "  const cancel = document.createElement('button');\n",
              "  inputElement.parentElement.appendChild(cancel);\n",
              "  cancel.textContent = 'Cancel upload';\n",
              "  const cancelPromise = new Promise((resolve) => {\n",
              "    cancel.onclick = () => {\n",
              "      resolve(null);\n",
              "    };\n",
              "  });\n",
              "\n",
              "  // Wait for the user to pick the files.\n",
              "  const files = yield {\n",
              "    promise: Promise.race([pickedPromise, cancelPromise]),\n",
              "    response: {\n",
              "      action: 'starting',\n",
              "    }\n",
              "  };\n",
              "\n",
              "  cancel.remove();\n",
              "\n",
              "  // Disable the input element since further picks are not allowed.\n",
              "  inputElement.disabled = true;\n",
              "\n",
              "  if (!files) {\n",
              "    return {\n",
              "      response: {\n",
              "        action: 'complete',\n",
              "      }\n",
              "    };\n",
              "  }\n",
              "\n",
              "  for (const file of files) {\n",
              "    const li = document.createElement('li');\n",
              "    li.append(span(file.name, {fontWeight: 'bold'}));\n",
              "    li.append(span(\n",
              "        `(${file.type || 'n/a'}) - ${file.size} bytes, ` +\n",
              "        `last modified: ${\n",
              "            file.lastModifiedDate ? file.lastModifiedDate.toLocaleDateString() :\n",
              "                                    'n/a'} - `));\n",
              "    const percent = span('0% done');\n",
              "    li.appendChild(percent);\n",
              "\n",
              "    outputElement.appendChild(li);\n",
              "\n",
              "    const fileDataPromise = new Promise((resolve) => {\n",
              "      const reader = new FileReader();\n",
              "      reader.onload = (e) => {\n",
              "        resolve(e.target.result);\n",
              "      };\n",
              "      reader.readAsArrayBuffer(file);\n",
              "    });\n",
              "    // Wait for the data to be ready.\n",
              "    let fileData = yield {\n",
              "      promise: fileDataPromise,\n",
              "      response: {\n",
              "        action: 'continue',\n",
              "      }\n",
              "    };\n",
              "\n",
              "    // Use a chunked sending to avoid message size limits. See b/62115660.\n",
              "    let position = 0;\n",
              "    do {\n",
              "      const length = Math.min(fileData.byteLength - position, MAX_PAYLOAD_SIZE);\n",
              "      const chunk = new Uint8Array(fileData, position, length);\n",
              "      position += length;\n",
              "\n",
              "      const base64 = btoa(String.fromCharCode.apply(null, chunk));\n",
              "      yield {\n",
              "        response: {\n",
              "          action: 'append',\n",
              "          file: file.name,\n",
              "          data: base64,\n",
              "        },\n",
              "      };\n",
              "\n",
              "      let percentDone = fileData.byteLength === 0 ?\n",
              "          100 :\n",
              "          Math.round((position / fileData.byteLength) * 100);\n",
              "      percent.textContent = `${percentDone}% done`;\n",
              "\n",
              "    } while (position < fileData.byteLength);\n",
              "  }\n",
              "\n",
              "  // All done.\n",
              "  yield {\n",
              "    response: {\n",
              "      action: 'complete',\n",
              "    }\n",
              "  };\n",
              "}\n",
              "\n",
              "scope.google = scope.google || {};\n",
              "scope.google.colab = scope.google.colab || {};\n",
              "scope.google.colab._files = {\n",
              "  _uploadFiles,\n",
              "  _uploadFilesContinue,\n",
              "};\n",
              "})(self);\n",
              "</script> "
            ]
          },
          "metadata": {}
        },
        {
          "output_type": "stream",
          "name": "stdout",
          "text": [
            "Saving kaggle.json to kaggle.json\n"
          ]
        },
        {
          "output_type": "execute_result",
          "data": {
            "text/plain": [
              "{'kaggle.json': b'{\"username\":\"rajeshvnit\",\"key\":\"da34d66c88fd79383819a0bc3bc2b0ae\"}'}"
            ]
          },
          "metadata": {},
          "execution_count": 1
        }
      ]
    },
    {
      "cell_type": "code",
      "metadata": {
        "colab": {
          "base_uri": "https://localhost:8080/"
        },
        "id": "sTEcIgrY7JEU",
        "outputId": "0b8a877c-051b-4d8a-95c4-c896460deab8"
      },
      "source": [
        "!mkdir -p ~/.kaggle\n",
        "!cp kaggle.json ~/.kaggle/\n",
        "!chmod 600 ~/.kaggle/kaggle.json\n",
        "\n",
        "# Try downloading again\n",
        "!kaggle datasets download -d birdy654/cifake-real-and-ai-generated-synthetic-images\n",
        "\n",
        "# Unzip if downloaded\n",
        "!unzip -q cifake-real-and-ai-generated-synthetic-images.zip -d cifake-real-and-ai-generated-synthetic-images\n",
        "!ls cifake-real-and-ai-generated-synthetic-images"
      ],
      "execution_count": 22,
      "outputs": [
        {
          "output_type": "stream",
          "name": "stdout",
          "text": [
            "Dataset URL: https://www.kaggle.com/datasets/birdy654/cifake-real-and-ai-generated-synthetic-images\n",
            "License(s): other\n",
            "cifake-real-and-ai-generated-synthetic-images.zip: Skipping, found more recently modified local copy (use --force to force download)\n",
            "replace cifake-real-and-ai-generated-synthetic-images/test/FAKE/0 (10).jpg? [y]es, [n]o, [A]ll, [N]one, [r]ename: a\n",
            "error:  invalid response [a]\n",
            "replace cifake-real-and-ai-generated-synthetic-images/test/FAKE/0 (10).jpg? [y]es, [n]o, [A]ll, [N]one, [r]ename: all\n",
            "error:  invalid response [all]\n",
            "replace cifake-real-and-ai-generated-synthetic-images/test/FAKE/0 (10).jpg? [y]es, [n]o, [A]ll, [N]one, [r]ename: [A]\n",
            "error:  invalid response [[A]]\n",
            "replace cifake-real-and-ai-generated-synthetic-images/test/FAKE/0 (10).jpg? [y]es, [n]o, [A]ll, [N]one, [r]ename: [A]\n",
            "error:  invalid response [[A]]\n",
            "replace cifake-real-and-ai-generated-synthetic-images/test/FAKE/0 (10).jpg? [y]es, [n]o, [A]ll, [N]one, [r]ename: [A]\n",
            "error:  invalid response [[A]]\n",
            "replace cifake-real-and-ai-generated-synthetic-images/test/FAKE/0 (10).jpg? [y]es, [n]o, [A]ll, [N]one, [r]ename: All\n",
            "test  train\n"
          ]
        }
      ]
    },
    {
      "cell_type": "code",
      "metadata": {
        "colab": {
          "base_uri": "https://localhost:8080/"
        },
        "id": "e094E4BV7JEV",
        "outputId": "97a2010d-ea3c-4615-e0d5-ebadbffaacb1"
      },
      "source": [
        "!pip install scikit-image joblib tqdm\n"
      ],
      "execution_count": 23,
      "outputs": [
        {
          "output_type": "stream",
          "name": "stdout",
          "text": [
            "Requirement already satisfied: scikit-image in /usr/local/lib/python3.11/dist-packages (0.25.2)\n",
            "Requirement already satisfied: joblib in /usr/local/lib/python3.11/dist-packages (1.5.1)\n",
            "Requirement already satisfied: tqdm in /usr/local/lib/python3.11/dist-packages (4.67.1)\n",
            "Requirement already satisfied: numpy>=1.24 in /usr/local/lib/python3.11/dist-packages (from scikit-image) (2.0.2)\n",
            "Requirement already satisfied: scipy>=1.11.4 in /usr/local/lib/python3.11/dist-packages (from scikit-image) (1.15.3)\n",
            "Requirement already satisfied: networkx>=3.0 in /usr/local/lib/python3.11/dist-packages (from scikit-image) (3.5)\n",
            "Requirement already satisfied: pillow>=10.1 in /usr/local/lib/python3.11/dist-packages (from scikit-image) (11.2.1)\n",
            "Requirement already satisfied: imageio!=2.35.0,>=2.33 in /usr/local/lib/python3.11/dist-packages (from scikit-image) (2.37.0)\n",
            "Requirement already satisfied: tifffile>=2022.8.12 in /usr/local/lib/python3.11/dist-packages (from scikit-image) (2025.6.11)\n",
            "Requirement already satisfied: packaging>=21 in /usr/local/lib/python3.11/dist-packages (from scikit-image) (24.2)\n",
            "Requirement already satisfied: lazy-loader>=0.4 in /usr/local/lib/python3.11/dist-packages (from scikit-image) (0.4)\n"
          ]
        }
      ]
    },
    {
      "cell_type": "code",
      "metadata": {
        "id": "U8Fv7OJM7JEW"
      },
      "source": [
        "import cv2\n",
        "import numpy as np\n",
        "import os\n",
        "import joblib\n",
        "from skimage.transform import radon\n",
        "from scipy.stats import entropy, skew, kurtosis\n",
        "from sklearn.ensemble import RandomForestClassifier\n",
        "from sklearn.metrics import classification_report, confusion_matrix, ConfusionMatrixDisplay\n",
        "import matplotlib.pyplot as plt\n"
      ],
      "execution_count": 5,
      "outputs": []
    },
    {
      "cell_type": "code",
      "metadata": {
        "id": "VTILxA5J7JEW"
      },
      "source": [
        "def extract_features(image_path):\n",
        "    img = cv2.imread(image_path, cv2.IMREAD_GRAYSCALE)\n",
        "    img = cv2.resize(img, (256, 256))\n",
        "\n",
        "    edges = cv2.Canny(img, 50, 150)\n",
        "    lines = cv2.HoughLines(edges, 1, np.pi / 180, threshold=120)\n",
        "    hough_features = []\n",
        "\n",
        "    if lines is not None:\n",
        "        angles = np.array([theta for rho, theta in lines[:, 0]])\n",
        "        angle_hist, _ = np.histogram(angles, bins=36, range=(0, np.pi), density=True)\n",
        "        angle_entropy = entropy(angle_hist + 1e-10)\n",
        "\n",
        "        hough_features = [\n",
        "            len(angles),\n",
        "            np.mean(angles),\n",
        "            np.var(angles),\n",
        "            np.min(angles),\n",
        "            np.max(angles),\n",
        "            angle_entropy,\n",
        "            np.sum((angles < 0.1) | (angles > np.pi - 0.1)),\n",
        "            np.sum(np.abs(angles - np.pi/2) < 0.1)\n",
        "        ]\n",
        "    else:\n",
        "        hough_features = [0]*8\n",
        "\n",
        "    theta = np.linspace(0., 180., max(img.shape), endpoint=False)\n",
        "    sinogram = radon(img, theta=theta)\n",
        "    sinogram_flat = sinogram.flatten()\n",
        "\n",
        "    radon_features = [\n",
        "        np.mean(sinogram),\n",
        "        np.std(sinogram),\n",
        "        skew(sinogram_flat),\n",
        "        kurtosis(sinogram_flat),\n",
        "        np.sum(sinogram_flat**2),\n",
        "        entropy(np.histogram(sinogram_flat, bins=64, density=True)[0] + 1e-10),\n",
        "        np.max(sinogram) / (np.mean(sinogram) + 1e-6),\n",
        "        np.sum(np.diff(np.sign(np.diff(sinogram, axis=0)), axis=0) != 0),\n",
        "        np.sum(np.max(sinogram, axis=0) > (np.mean(sinogram) + 2 * np.std(sinogram)))\n",
        "    ]\n",
        "\n",
        "    return hough_features + radon_features\n"
      ],
      "execution_count": 6,
      "outputs": []
    },
    {
      "cell_type": "code",
      "metadata": {
        "id": "0HXA9YQ97JEX"
      },
      "source": [
        "def load_dataset(real_dir, fake_dir, max_images=200):  # limit for Colab\n",
        "    X, y = [], []\n",
        "    print(\"🔁 Extracting features (serial)...\")\n",
        "\n",
        "    for img_name in sorted(os.listdir(real_dir))[:max_images]:\n",
        "        img_path = os.path.join(real_dir, img_name)\n",
        "        try:\n",
        "            X.append(extract_features(img_path))\n",
        "            y.append(0)\n",
        "        except:\n",
        "            pass\n",
        "\n",
        "    for img_name in sorted(os.listdir(fake_dir))[:max_images]:\n",
        "        img_path = os.path.join(fake_dir, img_name)\n",
        "        try:\n",
        "            X.append(extract_features(img_path))\n",
        "            y.append(1)\n",
        "        except:\n",
        "            pass\n",
        "\n",
        "    return np.array(X), np.array(y)\n"
      ],
      "execution_count": 7,
      "outputs": []
    },
    {
      "cell_type": "code",
      "metadata": {
        "id": "Q4ruszej7JEY"
      },
      "source": [
        "def train_and_evaluate(train_X, train_y):\n",
        "    clf = RandomForestClassifier(n_estimators=100, random_state=42, n_jobs=-1)\n",
        "    clf.fit(train_X, train_y)\n",
        "    joblib.dump(clf, \"real_fake_classifier.pkl\")\n",
        "    print(\"✅ Model trained and saved\")\n",
        "\n",
        "    y_pred = clf.predict(train_X)\n",
        "    print(\"\\n🧪 Evaluation:\")\n",
        "    print(classification_report(train_y, y_pred))\n",
        "\n",
        "    return y_pred, clf\n"
      ],
      "execution_count": 8,
      "outputs": []
    },
    {
      "cell_type": "code",
      "source": [],
      "metadata": {
        "id": "BCW_sce38vDZ"
      },
      "execution_count": null,
      "outputs": []
    },
    {
      "cell_type": "code",
      "metadata": {
        "colab": {
          "base_uri": "https://localhost:8080/"
        },
        "id": "yfT7LjGU7JEZ",
        "outputId": "9cd80455-a2d4-4efd-de93-0bfeac8a1f62"
      },
      "source": [
        "train_real = \"cifake-real-and-ai-generated-synthetic-images/train/REAL\"\n",
        "train_fake = \"cifake-real-and-ai-generated-synthetic-images/train/FAKE\"\n",
        "test_real = \"cifake-real-and-ai-generated-synthetic-images/test/REAL\"\n",
        "test_fake = \"cifake-real-and-ai-generated-synthetic-images/test/FAKE\"\n",
        "\n",
        "X_train, y_train = load_dataset(train_real, train_fake, max_images=1000)\n",
        "X_test, y_test = load_dataset(test_real, test_fake, max_images=1000)\n",
        "\n",
        "y_pred_train, model = train_and_evaluate(X_train, y_train)\n",
        "\n",
        "# Evaluate on test set\n",
        "y_pred_test = model.predict(X_test)\n",
        "print(classification_report(y_test, y_pred_test))\n"
      ],
      "execution_count": 9,
      "outputs": [
        {
          "output_type": "stream",
          "name": "stdout",
          "text": [
            "🔁 Extracting features (serial)...\n"
          ]
        },
        {
          "output_type": "stream",
          "name": "stderr",
          "text": [
            "/usr/local/lib/python3.11/dist-packages/skimage/transform/radon_transform.py:74: UserWarning: Radon transform: image must be zero outside the reconstruction circle\n",
            "  warn(\n"
          ]
        },
        {
          "output_type": "stream",
          "name": "stdout",
          "text": [
            "🔁 Extracting features (serial)...\n",
            "✅ Model trained and saved\n",
            "\n",
            "🧪 Evaluation:\n",
            "              precision    recall  f1-score   support\n",
            "\n",
            "           0       1.00      1.00      1.00      1000\n",
            "           1       1.00      1.00      1.00      1000\n",
            "\n",
            "    accuracy                           1.00      2000\n",
            "   macro avg       1.00      1.00      1.00      2000\n",
            "weighted avg       1.00      1.00      1.00      2000\n",
            "\n",
            "              precision    recall  f1-score   support\n",
            "\n",
            "           0       0.66      0.63      0.65      1000\n",
            "           1       0.65      0.68      0.66      1000\n",
            "\n",
            "    accuracy                           0.65      2000\n",
            "   macro avg       0.65      0.65      0.65      2000\n",
            "weighted avg       0.65      0.65      0.65      2000\n",
            "\n"
          ]
        }
      ]
    },
    {
      "cell_type": "code",
      "metadata": {
        "colab": {
          "base_uri": "https://localhost:8080/",
          "height": 472
        },
        "id": "PJB7ndei7JEZ",
        "outputId": "b99238bc-9856-4b3b-c18b-a41285ac8a76"
      },
      "source": [
        "cm = confusion_matrix(y_test, y_pred_test)\n",
        "disp = ConfusionMatrixDisplay(confusion_matrix=cm, display_labels=[\"Real\", \"Fake\"])\n",
        "disp.plot(cmap=plt.cm.Blues)\n",
        "plt.title(\"Confusion Matrix (Test Set)\")\n",
        "plt.show()"
      ],
      "execution_count": 10,
      "outputs": [
        {
          "output_type": "display_data",
          "data": {
            "text/plain": [
              "<Figure size 640x480 with 2 Axes>"
            ],
            "image/png": "[encoded data removed]"
          },
          "metadata": {}
        }
      ]
    },
    {
      "cell_type": "code",
      "metadata": {
        "id": "TGo6_jCq7JEa"
      },
      "source": [
        "def predict_image(image_path):\n",
        "    clf = joblib.load(\"real_fake_classifier.pkl\")\n",
        "    features = extract_features(image_path)\n",
        "    prediction = clf.predict([features])[0]\n",
        "    print(f\"🔍 Prediction for '{image_path}': {'Fake 🤖' if prediction == 1 else 'Real 🧑'}\")\n"
      ],
      "execution_count": 11,
      "outputs": []
    },
    {
      "cell_type": "code",
      "source": [
        "predict_image(\"/content/fakeface/real_vs_fake/real-vs-fake/valid/fake/00483R5CC4.jpg\")"
      ],
      "metadata": {
        "colab": {
          "base_uri": "https://localhost:8080/"
        },
        "id": "0Rvts336ATQ4",
        "outputId": "5fac548a-2922-4467-87d7-ad011e307169"
      },
      "execution_count": 13,
      "outputs": [
        {
          "output_type": "stream",
          "name": "stderr",
          "text": [
            "/usr/local/lib/python3.11/dist-packages/skimage/transform/radon_transform.py:74: UserWarning: Radon transform: image must be zero outside the reconstruction circle\n",
            "  warn(\n"
          ]
        },
        {
          "output_type": "stream",
          "name": "stdout",
          "text": [
            "🔍 Prediction for '/content/fakeface/real_vs_fake/real-vs-fake/valid/fake/00483R5CC4.jpg': Real 🧑\n"
          ]
        }
      ]
    }
  ],
  "metadata": {
    "kernelspec": {
      "display_name": "Python 3",
      "language": "python",
      "name": "python3"
    },
    "language_info": {
      "name": "python",
      "version": "3.8"
    },
    "colab": {
      "provenance": []
    }
  },
  "nbformat": 4,
  "nbformat_minor": 0
}